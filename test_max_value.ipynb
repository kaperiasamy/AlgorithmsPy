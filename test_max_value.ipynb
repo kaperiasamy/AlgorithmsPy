{
 "cells": [
  {
   "cell_type": "code",
   "execution_count": 2,
   "metadata": {},
   "outputs": [
    {
     "name": "stdout",
     "output_type": "stream",
     "text": [
      "Max value:  95\n"
     ]
    }
   ],
   "source": [
    "import sys \n",
    "\n",
    "def max(arrays):\n",
    "    length = len(arrays)\n",
    "    for i in range(0, length - 1):\n",
    "        if(arrays[i] > arrays[i + 1]):\n",
    "            temp = arrays[i]\n",
    "            arrays[i] = arrays[i + 1]\n",
    "            arrays[i + 1] = temp\n",
    "    maxvalue = arrays[length - 1]\n",
    "    return maxvalue\n",
    "\n",
    "def main():\n",
    "    scores = [60, 50, 95, 5, 70]\n",
    "    maxValue = max(scores)\n",
    "    print(\"Max value: \", maxValue)\n",
    "\n",
    "if __name__ == \"__main__\":\n",
    "    main()\n"
   ]
  }
 ],
 "metadata": {
  "kernelspec": {
   "display_name": "Python 3.10.2 64-bit",
   "language": "python",
   "name": "python3"
  },
  "language_info": {
   "codemirror_mode": {
    "name": "ipython",
    "version": 3
   },
   "file_extension": ".py",
   "mimetype": "text/x-python",
   "name": "python",
   "nbconvert_exporter": "python",
   "pygments_lexer": "ipython3",
   "version": "3.10.2"
  },
  "orig_nbformat": 4,
  "vscode": {
   "interpreter": {
    "hash": "1fa163922eb0b3709bbb5d8082b2465c9de796dbaacca80cbaa600e7fff3e4fe"
   }
  }
 },
 "nbformat": 4,
 "nbformat_minor": 2
}
